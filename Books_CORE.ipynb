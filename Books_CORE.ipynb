{
 "cells": [
  {
   "cell_type": "markdown",
   "id": "92177741-37bf-41ac-8698-384273d16c2c",
   "metadata": {},
   "source": [
    "# BOOKS (CORE) Assignment"
   ]
  },
  {
   "cell_type": "markdown",
   "id": "eaf8d021-afc3-4cf2-a1a7-6a10a6f57148",
   "metadata": {},
   "source": [
    "## Part 1: Design an ERD"
   ]
  },
  {
   "cell_type": "markdown",
   "id": "4421bc77-4f6b-44f7-8216-66af4dadb700",
   "metadata": {},
   "source": [
    "- ERD created for the assignment"
   ]
  },
  {
   "cell_type": "markdown",
   "id": "805cc47a-c56f-43ef-ae42-b4d9e6daec95",
   "metadata": {},
   "source": [
    "![png](https://github.com/Qisam0322/Books_CORE/blob/main/ERD%20/books%20CORE%20ERD.png)\n"
   ]
  }
 ],
 "metadata": {
  "kernelspec": {
   "display_name": "Python (dojo-env)",
   "language": "python",
   "name": "dojo-env"
  },
  "language_info": {
   "codemirror_mode": {
    "name": "ipython",
    "version": 3
   },
   "file_extension": ".py",
   "mimetype": "text/x-python",
   "name": "python",
   "nbconvert_exporter": "python",
   "pygments_lexer": "ipython3",
   "version": "3.10.10"
  },
  "widgets": {
   "application/vnd.jupyter.widget-state+json": {
    "state": {},
    "version_major": 2,
    "version_minor": 0
   }
  }
 },
 "nbformat": 4,
 "nbformat_minor": 5
}
